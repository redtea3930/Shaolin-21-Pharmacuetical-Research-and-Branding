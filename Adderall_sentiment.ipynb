{
 "cells": [
  {
   "cell_type": "code",
   "execution_count": null,
   "id": "7e124e80-28b9-466c-a4dd-4a41669d939c",
   "metadata": {},
   "outputs": [],
   "source": [
    "import pandas as pd\n"
   ]
  },
  {
   "cell_type": "code",
   "execution_count": null,
   "id": "9e2e0ef9-c543-4743-a185-5156cbc3ae45",
   "metadata": {},
   "outputs": [],
   "source": [
    "from transformers import pipeline\n",
    "model_path = \"cardiffnlp/twitter-xlm-roberta-base-sentiment\"\n",
    "sentiment_task = pipeline(\"sentiment-analysis\", model=model_path, tokenizer=model_path)\n",
    "\n",
    "# Function to analyze sentiment of a single segment\n",
    "def analyze_sentiment(text_segment):\n",
    "    sentiment_result = sentiment_task(text_segment)\n",
    "    return sentiment_result\n",
    "\n",
    "# Function to process the entire text and handle long texts\n",
    "def sent_pred(text):\n",
    "    max_segment_length = 512  # Adjust based on model's limit\n",
    "\n",
    "    # Split the text into segments that fit within the model's limit\n",
    "    text_segments = [text[i:i+max_segment_length] for i in range(0, len(text), max_segment_length)]\n",
    "\n",
    "    # Analyze sentiment for each segment\n",
    "    segment_sentiments = [analyze_sentiment(segment) for segment in text_segments]\n",
    "\n",
    "    # Process segment sentiments and combine results as needed\n",
    "    combined_sentiment = 0  # Initialize with a neutral sentiment\n",
    "    for sentiment_result in segment_sentiments:\n",
    "        label = sentiment_result[0]['label']\n",
    "        score = sentiment_result[0]['score']\n",
    "\n",
    "        if label == 'Positive':\n",
    "            combined_sentiment += score\n",
    "        elif label == 'Negative':\n",
    "            combined_sentiment -= score\n",
    "\n",
    "    # Return sentiment based on the combined result\n",
    "    if combined_sentiment > 0:\n",
    "        return 1  # Positive\n",
    "    elif combined_sentiment < 0:\n",
    "        return 0  # Negative\n",
    "    else:\n",
    "        return 1  # Neutral or positive (you can adjust as needed)\n",
    "\n",
    "# Apply the sentiment analysis function to the DataFrame\n",
    "adderall_df['sentiment'] = adderall_df.Reviews.map(lambda x: sent_pred(x))\n"
   ]
  },
  {
   "cell_type": "code",
   "execution_count": null,
   "id": "26871248-4de5-4e15-8817-ca2cdab6da4a",
   "metadata": {},
   "outputs": [],
   "source": [
    "adderall_df.head()"
   ]
  },
  {
   "cell_type": "code",
   "execution_count": null,
   "id": "41a0d8fe-f1db-483b-bd86-9e1a95efde0d",
   "metadata": {},
   "outputs": [],
   "source": [
    "print(adderall_df['Age'].unique())"
   ]
  },
  {
   "cell_type": "code",
   "execution_count": null,
   "id": "afa81bdf-5a2c-4da4-b1c9-f28311b5258b",
   "metadata": {},
   "outputs": [],
   "source": [
    "adderall_df_child = adderall_df[(adderall_df['Age'] == '3-6') |\n",
    "                                (adderall_df['Age'] == '7-12')]\n",
    "\n",
    "adderall_df_adolescent = adderall_df[(adderall_df['Age'] == '13-18')]\n",
    "\n",
    "adderall_df_adult = adderall_df[(adderall_df['Age'] == '19-24') |\n",
    "                                (adderall_df['Age'] == '25-34') |\n",
    "                                (adderall_df['Age'] == '35-44') |\n",
    "                                (adderall_df['Age'] == '45-54') |\n",
    "                                (adderall_df['Age'] == '55-64')]\n",
    "\n"
   ]
  }
 ],
 "metadata": {
  "kernelspec": {
   "display_name": "Python 3 (ipykernel)",
   "language": "python",
   "name": "python3"
  },
  "language_info": {
   "codemirror_mode": {
    "name": "ipython",
    "version": 3
   },
   "file_extension": ".py",
   "mimetype": "text/x-python",
   "name": "python",
   "nbconvert_exporter": "python",
   "pygments_lexer": "ipython3",
   "version": "3.7.13"
  }
 },
 "nbformat": 4,
 "nbformat_minor": 5
}
